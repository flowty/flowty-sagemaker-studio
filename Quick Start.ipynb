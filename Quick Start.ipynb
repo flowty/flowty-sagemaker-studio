{
 "cells": [
  {
   "cell_type": "code",
   "execution_count": null,
   "metadata": {},
   "outputs": [],
   "source": [
    "from flowty import Model, xsum\n",
    "from or_datasets import vrp_rep"
   ]
  },
  {
   "cell_type": "code",
   "execution_count": null,
   "metadata": {},
   "outputs": [],
   "source": [
    "bunch = vrp_rep.fetch_vrp_rep(\"solomon-1987-r1\", instance=\"R102_025\")\n",
    "name, n, E, c, d, Q, t, a, b, x, y = bunch[\"instance\"]\n",
    "\n",
    "m = Model()"
   ]
  },
  {
   "cell_type": "code",
   "execution_count": null,
   "metadata": {},
   "outputs": [],
   "source": [
    "# one graph, it is identical for all vehicles\n",
    "g = m.addGraph(obj=c, edges=E, source=0, sink=n - 1, L=1, U=n - 2, type=\"B\")\n",
    "\n",
    "# adds resources variables to the graph.\n",
    "# travel time and customer tine windows\n",
    "m.addResourceDisposable(\n",
    "    graph=g, consumptionType=\"E\", weight=t, boundsType=\"V\", lb=a, ub=b, name=\"t\"\n",
    ")\n",
    "\n",
    "# demand and capacity\n",
    "m.addResourceDisposable(\n",
    "    graph=g, consumptionType=\"V\", weight=d, boundsType=\"V\", lb=0, ub=Q, name=\"d\"\n",
    ")"
   ]
  },
  {
   "cell_type": "code",
   "execution_count": null,
   "metadata": {},
   "outputs": [],
   "source": [
    "# set partition constriants\n",
    "for i in range(n)[1:-1]:\n",
    "    m += xsum(x * 1 for x in g.vars if i == x.source) == 1"
   ]
  },
  {
   "cell_type": "code",
   "execution_count": null,
   "metadata": {},
   "outputs": [],
   "source": [
    "# packing set\n",
    "for i in range(n)[1:-1]:\n",
    "    m.addPackingSet([x for x in g.vars if i == x.source])"
   ]
  },
  {
   "cell_type": "code",
   "execution_count": null,
   "metadata": {},
   "outputs": [],
   "source": [
    "status = m.optimize()\n",
    "\n",
    "print(f\"ObjectiveValue {m.objectiveValue}\")\n",
    "\n",
    "# get the variable values\n",
    "for var in m.vars:\n",
    "    if var.x > 0:\n",
    "        print(f\"{var.name} = {var.x}\")"
   ]
  },
  {
   "cell_type": "code",
   "execution_count": null,
   "metadata": {},
   "outputs": [],
   "source": [
    "import math\n",
    "import networkx\n",
    "import matplotlib\n",
    "import matplotlib.pyplot as plt\n",
    "\n",
    "edges = [x.edge for x in g.vars if not math.isclose(x.x, 0, abs_tol=0.001)]\n",
    "gx = networkx.DiGraph()\n",
    "gx.add_nodes_from([i for i in range(n)])\n",
    "gx.add_edges_from(edges)\n",
    "pos = {i: (x[i], y[i]) for i in range(n)} # for lists of x,y coordinates\n",
    "# pos = networkx.spring_layout(gx) # alternative layout\n",
    "networkx.draw_networkx_nodes(gx, pos, nodelist=gx.nodes)\n",
    "networkx.draw_networkx_labels(gx, pos, labels={i: i for i in gx.nodes})\n",
    "networkx.draw_networkx_edges(gx, pos, nodelist=gx.edges)\n",
    "plt.show()"
   ]
  }
 ],
 "metadata": {
  "kernelspec": {
   "display_name": "Python 3",
   "language": "python",
   "name": "python3"
  },
  "language_info": {
   "codemirror_mode": {
    "name": "ipython",
    "version": 3
   },
   "file_extension": ".py",
   "mimetype": "text/x-python",
   "name": "python",
   "nbconvert_exporter": "python",
   "pygments_lexer": "ipython3",
   "version": "3.7.6"
  }
 },
 "nbformat": 4,
 "nbformat_minor": 4
}